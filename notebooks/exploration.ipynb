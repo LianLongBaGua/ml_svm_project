{
 "cells": [
  {
   "cell_type": "code",
   "execution_count": 1,
   "metadata": {},
   "outputs": [],
   "source": [
    "from ml_svm_project.src.useful_tools import *\n",
    "from ml_svm_project.src.features_extraction import *\n",
    "import pandas as pd\n",
    "import numpy as np\n",
    "import talib\n",
    "import matplotlib.pyplot as plt"
   ]
  },
  {
   "cell_type": "code",
   "execution_count": 2,
   "metadata": {},
   "outputs": [],
   "source": [
    "df = keep_essentials(pd.read_csv(\"../data/data.csv\"))"
   ]
  },
  {
   "cell_type": "code",
   "execution_count": 3,
   "metadata": {},
   "outputs": [
    {
     "name": "stdout",
     "output_type": "stream",
     "text": [
      "Generating original features...\n",
      "Generating momentum features...\n",
      "Generating math features...\n",
      "Generating cossin time features...\n"
     ]
    }
   ],
   "source": [
    "df = generate_all_features_df(df, [10])"
   ]
  },
  {
   "cell_type": "code",
   "execution_count": 5,
   "metadata": {},
   "outputs": [
    {
     "data": {
      "text/plain": [
       "55"
      ]
     },
     "execution_count": 5,
     "metadata": {},
     "output_type": "execute_result"
    }
   ],
   "source": [
    "df.shape[1]"
   ]
  },
  {
   "cell_type": "code",
   "execution_count": 3,
   "metadata": {},
   "outputs": [
    {
     "name": "stdout",
     "output_type": "stream",
     "text": [
      "Generating original features...\n"
     ]
    }
   ],
   "source": [
    "generate_og_features_df(df, [10, 20])"
   ]
  },
  {
   "cell_type": "code",
   "execution_count": 6,
   "metadata": {},
   "outputs": [],
   "source": [
    "normalize_features(df, 1000)"
   ]
  },
  {
   "cell_type": "code",
   "execution_count": 7,
   "metadata": {},
   "outputs": [
    {
     "data": {
      "text/html": [
       "<div>\n",
       "<style scoped>\n",
       "    .dataframe tbody tr th:only-of-type {\n",
       "        vertical-align: middle;\n",
       "    }\n",
       "\n",
       "    .dataframe tbody tr th {\n",
       "        vertical-align: top;\n",
       "    }\n",
       "\n",
       "    .dataframe thead th {\n",
       "        text-align: right;\n",
       "    }\n",
       "</style>\n",
       "<table border=\"1\" class=\"dataframe\">\n",
       "  <thead>\n",
       "    <tr style=\"text-align: right;\">\n",
       "      <th></th>\n",
       "      <th>ADOSC_10</th>\n",
       "      <th>MFI_10</th>\n",
       "      <th>ADOSC_20</th>\n",
       "      <th>MFI_20</th>\n",
       "    </tr>\n",
       "  </thead>\n",
       "  <tbody>\n",
       "    <tr>\n",
       "      <th>0</th>\n",
       "      <td>NaN</td>\n",
       "      <td>NaN</td>\n",
       "      <td>NaN</td>\n",
       "      <td>NaN</td>\n",
       "    </tr>\n",
       "    <tr>\n",
       "      <th>1</th>\n",
       "      <td>NaN</td>\n",
       "      <td>NaN</td>\n",
       "      <td>NaN</td>\n",
       "      <td>NaN</td>\n",
       "    </tr>\n",
       "    <tr>\n",
       "      <th>2</th>\n",
       "      <td>NaN</td>\n",
       "      <td>NaN</td>\n",
       "      <td>NaN</td>\n",
       "      <td>NaN</td>\n",
       "    </tr>\n",
       "    <tr>\n",
       "      <th>3</th>\n",
       "      <td>NaN</td>\n",
       "      <td>NaN</td>\n",
       "      <td>NaN</td>\n",
       "      <td>NaN</td>\n",
       "    </tr>\n",
       "    <tr>\n",
       "      <th>4</th>\n",
       "      <td>NaN</td>\n",
       "      <td>NaN</td>\n",
       "      <td>NaN</td>\n",
       "      <td>NaN</td>\n",
       "    </tr>\n",
       "    <tr>\n",
       "      <th>...</th>\n",
       "      <td>...</td>\n",
       "      <td>...</td>\n",
       "      <td>...</td>\n",
       "      <td>...</td>\n",
       "    </tr>\n",
       "    <tr>\n",
       "      <th>379720</th>\n",
       "      <td>-0.022796</td>\n",
       "      <td>-1.155553</td>\n",
       "      <td>-0.422069</td>\n",
       "      <td>-1.314966</td>\n",
       "    </tr>\n",
       "    <tr>\n",
       "      <th>379721</th>\n",
       "      <td>-0.008806</td>\n",
       "      <td>-0.929458</td>\n",
       "      <td>-0.400865</td>\n",
       "      <td>-1.231429</td>\n",
       "    </tr>\n",
       "    <tr>\n",
       "      <th>379722</th>\n",
       "      <td>0.003429</td>\n",
       "      <td>-1.614338</td>\n",
       "      <td>-0.380489</td>\n",
       "      <td>-1.101295</td>\n",
       "    </tr>\n",
       "    <tr>\n",
       "      <th>379723</th>\n",
       "      <td>0.026165</td>\n",
       "      <td>-1.157165</td>\n",
       "      <td>-0.356121</td>\n",
       "      <td>-1.169470</td>\n",
       "    </tr>\n",
       "    <tr>\n",
       "      <th>379724</th>\n",
       "      <td>0.033489</td>\n",
       "      <td>-1.298441</td>\n",
       "      <td>-0.337585</td>\n",
       "      <td>-1.577124</td>\n",
       "    </tr>\n",
       "  </tbody>\n",
       "</table>\n",
       "<p>379725 rows × 4 columns</p>\n",
       "</div>"
      ],
      "text/plain": [
       "        ADOSC_10    MFI_10  ADOSC_20    MFI_20\n",
       "0            NaN       NaN       NaN       NaN\n",
       "1            NaN       NaN       NaN       NaN\n",
       "2            NaN       NaN       NaN       NaN\n",
       "3            NaN       NaN       NaN       NaN\n",
       "4            NaN       NaN       NaN       NaN\n",
       "...          ...       ...       ...       ...\n",
       "379720 -0.022796 -1.155553 -0.422069 -1.314966\n",
       "379721 -0.008806 -0.929458 -0.400865 -1.231429\n",
       "379722  0.003429 -1.614338 -0.380489 -1.101295\n",
       "379723  0.026165 -1.157165 -0.356121 -1.169470\n",
       "379724  0.033489 -1.298441 -0.337585 -1.577124\n",
       "\n",
       "[379725 rows x 4 columns]"
      ]
     },
     "execution_count": 7,
     "metadata": {},
     "output_type": "execute_result"
    }
   ],
   "source": [
    "df"
   ]
  }
 ],
 "metadata": {
  "kernelspec": {
   "display_name": "Python 3",
   "language": "python",
   "name": "python3"
  },
  "language_info": {
   "codemirror_mode": {
    "name": "ipython",
    "version": 3
   },
   "file_extension": ".py",
   "mimetype": "text/x-python",
   "name": "python",
   "nbconvert_exporter": "python",
   "pygments_lexer": "ipython3",
   "version": "3.10.9"
  },
  "orig_nbformat": 4
 },
 "nbformat": 4,
 "nbformat_minor": 2
}
